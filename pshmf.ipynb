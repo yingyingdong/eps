{
 "cells": [
  {
   "cell_type": "code",
   "execution_count": 40,
   "metadata": {},
   "outputs": [
    {
     "name": "stdout",
     "output_type": "stream",
     "text": [
      "Populating the interactive namespace from numpy and matplotlib\n"
     ]
    }
   ],
   "source": [
    "%pylab inline\n",
    "#from ctypes import\" *\n",
    "import ctypes\n",
    "import os\n",
    "PSH=ctypes.cdll.LoadLibrary('pshmf.so')\n"
   ]
  },
  {
   "cell_type": "code",
   "execution_count": 41,
   "metadata": {},
   "outputs": [],
   "source": [
    "redshift = 0.45\n",
    "M    = 10.**np.arange(11,15.5,0.01)/1e10\n",
    "zz   = redshift*np.ones(M.shape[0],dtype=np.double)\n",
    "DZ   = np.zeros(M.shape[0],dtype=np.double)\n",
    "sigm = np.zeros(M.shape[0],dtype=np.double)"
   ]
  },
  {
   "cell_type": "code",
   "execution_count": 42,
   "metadata": {},
   "outputs": [],
   "source": [
    "PSH.prepare()\n",
    "PSH.main_power.restype = None\n",
    "PSH.main_power(ctypes.c_int(M.shape[0]),\n",
    "               numpy.ctypeslib.as_ctypes(zz),\n",
    "               numpy.ctypeslib.as_ctypes(M),\n",
    "               numpy.ctypeslib.as_ctypes(DZ),\n",
    "               numpy.ctypeslib.as_ctypes(sigm))"
   ]
  },
  {
   "cell_type": "code",
   "execution_count": 43,
   "metadata": {},
   "outputs": [],
   "source": [
    "def PS(sigma):\n",
    "    return np.sqrt(2./np.pi)*dc/sigma*np.exp(-dc**2./2/sigma**2.)\n",
    "def ST(sigma):\n",
    "    A,a,p=0.3222,0.707,0.3\n",
    "    return A*np.sqrt(2*a/np.pi)*(1+(sigma**2/a/dc**2)**p)*dc/sigma*np.exp(-a*dc**2./2/sigma**2.)\n",
    "\n",
    "median_m = lambda x:0.5*(x[1:]+x[:-1])\n",
    "myc,ls = ['indianred','orange','teal','steelblue','maroon','coral','purple'],['-.','--','-']"
   ]
  },
  {
   "cell_type": "code",
   "execution_count": 46,
   "metadata": {},
   "outputs": [
    {
     "name": "stderr",
     "output_type": "stream",
     "text": [
      "/usr/local/lib/python3.6/site-packages/ipykernel_launcher.py:7: RuntimeWarning: divide by zero encountered in log10\n",
      "  import sys\n"
     ]
    },
    {
     "data": {
      "text/plain": [
       "<matplotlib.text.Text at 0x104d51f98>"
      ]
     },
     "execution_count": 46,
     "metadata": {},
     "output_type": "execute_result"
    },
    {
     "data": {
      "image/png": "[encoded data removed]",
      "text/plain": [
       "<matplotlib.figure.Figure at 0x1050545c0>"
      ]
     },
     "metadata": {},
     "output_type": "display_data"
    }
   ],
   "source": [
    "dc = 1.686*DZ[0] #dc/DZ DZ-growth factor at redshift z\n",
    "fst   = ST(sigm)\n",
    "dm    = M[1:]-M[:-1]\n",
    "dlnsm = np.log(sigm[1:])-np.log(sigm[:-1])\n",
    "plt.plot(np.log10(median_m(M)*1e10),np.log10(-np.log(10)*median_m(fst)*dlnsm/dm*7.43834e-09*1e9),label='S-T',alpha=1)\n",
    "xsimu = np.loadtxt('../data/w_1/fofmassfunc'+np.str(redshift)+'.dat')\n",
    "plt.plot(xsimu[:,0],np.log10(xsimu[:,1]))\n",
    "plt.title('z='+np.str(redshift))"
   ]
  },
  {
   "cell_type": "code",
   "execution_count": null,
   "metadata": {},
   "outputs": [],
   "source": []
  }
 ],
 "metadata": {
  "kernelspec": {
   "display_name": "Python 3",
   "language": "python",
   "name": "python3"
  },
  "language_info": {
   "codemirror_mode": {
    "name": "ipython",
    "version": 3
   },
   "file_extension": ".py",
   "mimetype": "text/x-python",
   "name": "python",
   "nbconvert_exporter": "python",
   "pygments_lexer": "ipython3",
   "version": "3.6.5"
  }
 },
 "nbformat": 4,
 "nbformat_minor": 2
}
