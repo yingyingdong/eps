{
 "cells": [
  {
   "cell_type": "code",
   "execution_count": 1,
   "metadata": {},
   "outputs": [
    {
     "name": "stdout",
     "output_type": "stream",
     "text": [
      "Populating the interactive namespace from numpy and matplotlib\n"
     ]
    }
   ],
   "source": [
    "%pylab inline\n",
    "#from ctypes import\" *\n",
    "import ctypes\n",
    "import os\n",
    "PSH=ctypes.cdll.LoadLibrary('pshmf.so')\n"
   ]
  },
  {
   "cell_type": "code",
   "execution_count": 44,
   "metadata": {},
   "outputs": [],
   "source": [
    "#initiallize for calculating sig(M):\n",
    "redshift = 0.45\n",
    "dz   = 0.05\n",
    "m2   = 12\n",
    "M2   = 10.**m2/1e10\n",
    "M1   = 10.**np.arange(m2-1,m2,0.001)/1e10 #M1<M2, z1>z2 (S1>S2, dc1>dc2) P(M1,z1|M2,z2)\n",
    "S1   = np.zeros(M1.shape[0],dtype=np.double)\n",
    "temp = np.zeros(3,dtype=np.double)\n",
    "\n",
    "#initiallize for calculating dc:\n",
    "zmin,zmax,nz = 0,0.6,1000\n",
    "zstep = (zmax-zmin)/nz\n",
    "zz    = zstep*np.arange(nz) + zmin \n",
    "dc    = np.zeros(nz,dtype=np.double)"
   ]
  },
  {
   "cell_type": "code",
   "execution_count": 45,
   "metadata": {},
   "outputs": [],
   "source": [
    "PSH.prepare()\n",
    "PSH.sig_M1_M2_z1_z2.restype = None\n",
    "PSH.sig_M1_M2_z1_z2(ctypes.c_double(M2),\n",
    "               np.ctypeslib.as_ctypes(M1-M2),\n",
    "               np.ctypeslib.as_ctypes(S1),\n",
    "               ctypes.c_int(M1.shape[0]),\n",
    "               ctypes.c_double(redshift-dz),\n",
    "               ctypes.c_double(redshift),\n",
    "               np.ctypeslib.as_ctypes(temp)\n",
    "               )\n",
    "PSH.dc_redshift(np.ctypeslib.as_ctypes(dc),\n",
    "                np.ctypeslib.as_ctypes(zz),\n",
    "                ctypes.c_int(nz)\n",
    "               )\n",
    "S2,DZ1,DZ2 = temp[0],temp[1],temp[2]"
   ]
  },
  {
   "cell_type": "code",
   "execution_count": 15,
   "metadata": {},
   "outputs": [
    {
     "name": "stdout",
     "output_type": "stream",
     "text": [
      "1.2167931147517006 1.5023246269838793\n"
     ]
    }
   ],
   "source": [
    "print(DZ1,DZ2)"
   ]
  },
  {
   "cell_type": "code",
   "execution_count": 46,
   "metadata": {},
   "outputs": [],
   "source": [
    "median_m = lambda x:0.5*(x[1:]+x[:-1])\n",
    "\n",
    "def PS(sigma):\n",
    "    return np.sqrt(2./np.pi)*dc/sigma*np.exp(-dc**2./2/sigma**2.)\n",
    "def ST(sigma):\n",
    "    A,a,p=0.3222,0.707,0.3\n",
    "    return A*np.sqrt(2*a/np.pi)*(1+(sigma**2/a/dc**2)**p)*dc/sigma*np.exp(-a*dc**2./2/sigma**2.)\n",
    "def eps_merger_rate(M1,M2,S1,S2,DZ,dc,dcdt):\n",
    "    dSdM = np.abs( (np.log(S2[1:])-np.log(S2[:-1]))/(np.log(M2[1:])-np.log(M2[:-1])) )\n",
    "    s2   = S2[1:]\n",
    "    #s2   = median_m(S2)\n",
    "    amp  = 1./np.sqrt(2*np.pi)*np.abs(dcdt)*dc/np.sqrt(s2)\n",
    "    '''\n",
    "    print(amp)\n",
    "    print(dSdM)\n",
    "    print((S1/(S1-s2))**(3./2))\n",
    "    print(exp(-dc*dc*(S1-s2)/2/S1/s2))\n",
    "    '''\n",
    "    return amp * (S1/(S1-s2))**(3./2)*exp(-dc*dc*(S1-s2)/2/S1/s2)*dSdM\n",
    "\n",
    "def conditional_M1_M2(dc1,dc2,S1,S2): #P(M1,z1|M2,z2)\n",
    "    return 1./np.sqrt(2*np.pi)*(dc1-dc2)/(S1-S2)**(3./2)*exp(-(dc1-dc2)**2/2/(S1-S2))\n",
    "\n",
    "def conditional_M2_M1(dc1,dc2,S1,S2): #P(M2,z2|M1,z1)\n",
    "    return 1./np.sqrt(2*np.pi)*dc2*(dc1-dc2)/dc1*(S1/S2/(S1-S2))**(3./2)*exp((dc2*S1-dc1*S2)**2./(2*S1*S2*(S1-S2)))\n",
    "\n",
    "def Mmax_M1(M1,M2):\n",
    "    Ma = np.zeros(M1.shape[0])\n",
    "    for i in np.arange(M1.shape[0]):\n",
    "        Ma[i] = np.max((M1[i],M2-M1[i]))\n",
    "    return Ma"
   ]
  },
  {
   "cell_type": "code",
   "execution_count": 53,
   "metadata": {},
   "outputs": [
    {
     "data": {
      "text/plain": [
       "<matplotlib.legend.Legend at 0x10a076eb8>"
      ]
     },
     "execution_count": 53,
     "metadata": {},
     "output_type": "execute_result"
    },
    {
     "data": {
      "image/png": "[encoded data removed]",
      "text/plain": [
       "<matplotlib.figure.Figure at 0x109dcaeb8>"
      ]
     },
     "metadata": {},
     "output_type": "display_data"
    }
   ],
   "source": [
    "dcdt = (dc[1:]-dc[:-1])/(zz[1:]-zz[:-1])\n",
    "idc1 = np.int32(np.floor((redshift+dz-zmin)/zstep))\n",
    "idc2 = np.int32(np.floor((redshift-zmin)/zstep))\n",
    "Ma   = Mmax_M1(M1,M2)\n",
    "#merger_r = eps_merger_rate(M1,M2,S1,S2,DZ,dc[idc],dcdt[idc])\n",
    "Pm1m2 = conditional_M1_M2(dc[idc1],dc[idc2],S1,S2)/(np.log(M2)-np.log(M2-M1))\n",
    "#Pm1m2 = conditional_M1_M2(dc[idc1],dc[idc2],S1,S2)\n",
    "#Pm2m1 = conditional_M2_M1(dc[idc1],dc[idc2],S1,S2)#/(np.log(M2))\n",
    "#plt.loglog((M2-M1)/M2,Pm1m2)\n",
    "plt.loglog((M2-M1)/M1,Pm1m2)\n",
    "#plt.loglog((M2-Ma)/M2,Pm1m2)\n",
    "plt.ylabel('P(M1,z1|M2,z2)')\n",
    "#plt.title('M1<M2,z1>z2')\n",
    "x13 = np.loadtxt('temp/13-z'+np.str(redshift)+'.dat')\n",
    "plt.plot(x13[0],x13[1],label='13')\n",
    "plt.legend()\n",
    "#np.savetxt('temp/'+np.str(m2)+'-z'+np.str(redshift)+'.dat',np.vstack(((M2-M1)/M1,Pm1m2)))"
   ]
  },
  {
   "cell_type": "code",
   "execution_count": 4,
   "metadata": {},
   "outputs": [],
   "source": [
    "# calculate theoritical hmf\n",
    "redshift = 0.45\n",
    "M    = 10.**np.arange(11,15.5,0.01)/1e10\n",
    "zz   = redshift*np.ones(M.shape[0],dtype=np.double)\n",
    "DZ   = np.zeros(M.shape[0],dtype=np.double)\n",
    "sigm = np.zeros(M.shape[0],dtype=np.double)\n",
    "\n",
    "PSH.prepare()\n",
    "PSH.main_power.restype = None\n",
    "PSH.main_power(ctypes.c_int(M.shape[0]),\n",
    "               numpy.ctypeslib.as_ctypes(zz),\n",
    "               numpy.ctypeslib.as_ctypes(M),\n",
    "               numpy.ctypeslib.as_ctypes(DZ),\n",
    "               numpy.ctypeslib.as_ctypes(sigm))\n"
   ]
  },
  {
   "cell_type": "code",
   "execution_count": 5,
   "metadata": {},
   "outputs": [
    {
     "name": "stderr",
     "output_type": "stream",
     "text": [
      "/usr/local/lib/python3.6/site-packages/ipykernel_launcher.py:9: RuntimeWarning: divide by zero encountered in log10\n",
      "  if __name__ == '__main__':\n"
     ]
    },
    {
     "data": {
      "text/plain": [
       "<matplotlib.legend.Legend at 0x1103d4eb8>"
      ]
     },
     "execution_count": 5,
     "metadata": {},
     "output_type": "execute_result"
    },
    {
     "data": {
      "image/png": "[encoded data removed]",
      "text/plain": [
       "<matplotlib.figure.Figure at 0x110320f98>"
      ]
     },
     "metadata": {},
     "output_type": "display_data"
    }
   ],
   "source": [
    "dc = 1.686*DZ[0] #dc/DZ DZ-growth factor at redshift z\n",
    "fst   = ST(sigm)\n",
    "fps   = PS(sigm)\n",
    "dm    = M[1:]-M[:-1]\n",
    "dlnsm = np.log(sigm[1:])-np.log(sigm[:-1])\n",
    "plt.plot(np.log10(median_m(M)*1e10),np.log10(-np.log(10)*median_m(fst)*dlnsm/dm*7.43834e-09*1e9),label='S-T',alpha=1)\n",
    "plt.plot(np.log10(median_m(M)*1e10),np.log10(-np.log(10)*median_m(fps)*dlnsm/dm*7.43834e-09*1e9),label='P-S',alpha=1)\n",
    "xsimu = np.loadtxt('../data/w_1/fofmassfunc'+np.str(redshift)+'.dat')\n",
    "plt.plot(xsimu[:,0],np.log10(xsimu[:,1]))\n",
    "plt.title('z='+np.str(redshift))\n",
    "plt.legend()"
   ]
  },
  {
   "cell_type": "code",
   "execution_count": 9,
   "metadata": {},
   "outputs": [],
   "source": [
    "#np.savetxt('temp/z0.45-tophat-M.dat',np.vstack((M,sigm)))\n",
    "#np.savetxt('temp/z0.45-sharpk-M.dat',np.vstack((M,sigm)))"
   ]
  },
  {
   "cell_type": "code",
   "execution_count": 11,
   "metadata": {},
   "outputs": [
    {
     "data": {
      "text/plain": [
       "<matplotlib.legend.Legend at 0x1108af828>"
      ]
     },
     "execution_count": 11,
     "metadata": {},
     "output_type": "execute_result"
    },
    {
     "data": {
      "image/png": "[encoded data removed]",
      "text/plain": [
       "<matplotlib.figure.Figure at 0x11066d400>"
      ]
     },
     "metadata": {},
     "output_type": "display_data"
    }
   ],
   "source": [
    "xtop = np.loadtxt('temp/z0.45-tophat-M.dat')\n",
    "plt.scatter(np.log10(xtop[0])+10,xtop[1],s=1,edgecolors='none',label='tophat')\n",
    "plt.scatter(np.log10(M)+10,sigm,s=1,edgecolors='none',label='sharpk')\n",
    "plt.xlabel('lgM')\n",
    "plt.ylabel(r'$\\sigma_M$')\n",
    "plt.legend()"
   ]
  },
  {
   "cell_type": "code",
   "execution_count": 5,
   "metadata": {},
   "outputs": [
    {
     "data": {
      "text/plain": [
       "0.0012"
      ]
     },
     "execution_count": 5,
     "metadata": {},
     "output_type": "execute_result"
    }
   ],
   "source": [
    "0.6/500"
   ]
  },
  {
   "cell_type": "code",
   "execution_count": null,
   "metadata": {},
   "outputs": [],
   "source": []
  }
 ],
 "metadata": {
  "kernelspec": {
   "display_name": "Python 3",
   "language": "python",
   "name": "python3"
  },
  "language_info": {
   "codemirror_mode": {
    "name": "ipython",
    "version": 3
   },
   "file_extension": ".py",
   "mimetype": "text/x-python",
   "name": "python",
   "nbconvert_exporter": "python",
   "pygments_lexer": "ipython3",
   "version": "3.6.5"
  }
 },
 "nbformat": 4,
 "nbformat_minor": 2
}
