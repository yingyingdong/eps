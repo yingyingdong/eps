{
 "cells": [
  {
   "cell_type": "code",
   "execution_count": 4,
   "metadata": {},
   "outputs": [
    {
     "name": "stdout",
     "output_type": "stream",
     "text": [
      "Populating the interactive namespace from numpy and matplotlib\n"
     ]
    }
   ],
   "source": [
    "%pylab inline\n",
    "#from ctypes import\" *\n",
    "import ctypes\n",
    "import os\n",
    "PSH=ctypes.cdll.LoadLibrary('../pshmf.so')\n"
   ]
  },
  {
   "cell_type": "code",
   "execution_count": 5,
   "metadata": {},
   "outputs": [],
   "source": [
    "#initiallize for calculating sig(M):\n",
    "z1   = 0.02\n",
    "z2   = 0.\n",
    "m2   = 13.\n",
    "M2   = 10.**m2/1e10\n",
    "M1   = 10.**np.arange(m2-2,m2,0.002)/1e10 #M1<M2, z1>z2 (S1>S2, dc1>dc2) P(M1,z1|M2,z2)\n",
    "S1   = np.zeros(M1.shape[0],dtype=np.double)\n",
    "temp = np.zeros(3,dtype=np.double)\n",
    "\n",
    "#initiallize for calculating dc:\n",
    "zmin,zmax,nz = 0,0.1,1000\n",
    "zstep = (zmax-zmin)/nz\n",
    "zz    = zstep*np.arange(nz) + zmin \n",
    "dc    = np.zeros(nz,dtype=np.double)"
   ]
  },
  {
   "cell_type": "code",
   "execution_count": 6,
   "metadata": {},
   "outputs": [
    {
     "data": {
      "text/plain": [
       "0"
      ]
     },
     "execution_count": 6,
     "metadata": {},
     "output_type": "execute_result"
    }
   ],
   "source": [
    "#make a dc(z) table\n",
    "PSH.dc_redshift(np.ctypeslib.as_ctypes(dc),\n",
    "                np.ctypeslib.as_ctypes(zz),\n",
    "                ctypes.c_int(nz)\n",
    "               )"
   ]
  },
  {
   "cell_type": "code",
   "execution_count": 7,
   "metadata": {},
   "outputs": [],
   "source": [
    "PSH.prepare()\n",
    "PSH.sig_M1_M2_z1_z2.restype = None\n",
    "PSH.sig_M1_M2_z1_z2(ctypes.c_double(M2),\n",
    "               np.ctypeslib.as_ctypes(M1),\n",
    "               np.ctypeslib.as_ctypes(S1),\n",
    "               ctypes.c_int(M1.shape[0]),\n",
    "               ctypes.c_double(z2),\n",
    "               ctypes.c_double(z1),\n",
    "               np.ctypeslib.as_ctypes(temp)\n",
    "               )\n",
    "S2,DZ1,DZ2 = temp[0],temp[1],temp[2]\n"
   ]
  },
  {
   "cell_type": "code",
   "execution_count": 8,
   "metadata": {},
   "outputs": [
    {
     "name": "stdout",
     "output_type": "stream",
     "text": [
      "1.0 1.0096916398366378\n",
      "12.998000000000667 11.0\n"
     ]
    }
   ],
   "source": [
    "M1,M2 = M1*1e10,M2*1e10\n",
    "print(DZ1,DZ2)\n",
    "print(np.log10(M1).max(),np.log10(M1).min())"
   ]
  },
  {
   "cell_type": "code",
   "execution_count": 9,
   "metadata": {},
   "outputs": [],
   "source": [
    "median_m = lambda x:0.5*(x[1:]+x[:-1])\n",
    "\n",
    "def PS(sigma):\n",
    "    return np.sqrt(2./np.pi)*dc/sigma*np.exp(-dc**2./2/sigma**2.)\n",
    "def ST(sigma):\n",
    "    A,a,p=0.3222,0.707,0.3\n",
    "    return A*np.sqrt(2*a/np.pi)*(1+(sigma**2/a/dc**2)**p)*dc/sigma*np.exp(-a*dc**2./2/sigma**2.)\n",
    "def eps_merger_rate(M1,M2,S1,S2,DZ,dc,dcdt):\n",
    "    dSdM = np.abs( (np.log(S2[1:])-np.log(S2[:-1]))/(np.log(M2[1:])-np.log(M2[:-1])) )\n",
    "    s2   = S2[1:]\n",
    "    #s2   = median_m(S2)\n",
    "    amp  = 1./np.sqrt(2*np.pi)*np.abs(dcdt)*dc/np.sqrt(s2)\n",
    "    '''\n",
    "    print(amp)\n",
    "    print(dSdM)\n",
    "    print((S1/(S1-s2))**(3./2))\n",
    "    print(exp(-dc*dc*(S1-s2)/2/S1/s2))\n",
    "    '''\n",
    "    return amp * (S1/(S1-s2))**(3./2)*exp(-dc*dc*(S1-s2)/2/S1/s2)*dSdM\n",
    "\n",
    "def conditional_M1_M2(dc1,dc2,S1,S2): #P(M1,z1|M2,z2)\n",
    "    return 1./np.sqrt(2*np.pi)*(dc1-dc2)/(S1-S2)**(3./2)*exp(-(dc1-dc2)**2/2/(S1-S2))\n",
    "\n",
    "def conditional_M2_M1(dc1,dc2,S1,S2): #P(M2,z2|M1,z1)\n",
    "    return 1./np.sqrt(2*np.pi)*dc2*(dc1-dc2)/dc1*(S1/S2/(S1-S2))**(3./2)*exp((dc2*S1-dc1*S2)**2./(2*S1*S2*(S1-S2)))\n",
    "\n",
    "def P_M1_M2(dc1,dc2,S1,S2): #z1>z2, projenitor halo mass function for a given M2(z2)\n",
    "    return 1./np.sqrt(2*np.pi)*(dc1-dc2)/(S1-S2)**(3./2)*np.exp(-(dc1-dc2)*(dc1-dc2)/2/(S1-S2))\n",
    "\n",
    "def OF_rate(S1,S2,dcdz): #Onsi Fakhouri, 2008, EQ(10)\n",
    "    sigm1,sigm2 = np.sqrt(S1),np.sqrt(S2)\n",
    "    return np.sqrt(2./np.pi)*dcdz/median_m(sigm1)*np.abs((np.log(sigm1)-np.log(sigm2))/(np.log(M1[1:])-np.log(M1[:-1])))*(1-S2/S1)**(-3./2)\n",
    "    \n",
    "def OF_fit_rate(M0,zz,zmin,zstep,dcdt):\n",
    "    xi   = 10.**np.arange(-3,0,0.1)\n",
    "    A,a1,a2,a3,a4 = 0.0289,0.083,-2.01,0.409,0.371\n",
    "    am,axi = 1.2*1e12,0.098\n",
    "    iz   = np.int32(np.floor((zz-zmin)/zstep))\n",
    "    dcdz = dcdt[iz]\n",
    "    print(iz)\n",
    "    return xi,A*(M0/am)**(a1)*xi**(a2)*np.exp((xi/axi)**(a3))*(dcdz)**(a4) \n",
    "\n",
    "def jz_rate(M2,M1,S2,S1,dcdz): #jz,2006, EQ(17)\n",
    "    dS = median_m(S1)-S2\n",
    "    return median_m(M1)/(M2-median_m(M1)),dcdz*M2*M2/(1+median_m(M1)/(M2-median_m(M1)))**2./median_m(M1)*(S1[1:]-S1[:-1])/(M1[1:]-M1[:-1])/np.sqrt(2*np.pi)/dS**(3./2)\n",
    "\n",
    "def Mmax_M1(M1,M2):\n",
    "    Ma = np.zeros(M1.shape[0])\n",
    "    for i in np.arange(M1.shape[0]):\n",
    "        Ma[i] = np.max((M1[i],M2-M1[i]))\n",
    "    return Ma\n"
   ]
  },
  {
   "cell_type": "code",
   "execution_count": 11,
   "metadata": {},
   "outputs": [
    {
     "data": {
      "text/plain": [
       "<matplotlib.text.Text at 0x106e9cd30>"
      ]
     },
     "execution_count": 11,
     "metadata": {},
     "output_type": "execute_result"
    },
    {
     "data": {
      "image/png": "[encoded data removed]",
      "text/plain": [
       "<matplotlib.figure.Figure at 0x106e21668>"
      ]
     },
     "metadata": {},
     "output_type": "display_data"
    }
   ],
   "source": [
    "#The projenitor halo mass function for a given M2(z2)\n",
    "#print('z1=',z1,'z2=',z2,'dc1=',dc[idc1],'dc2=',dc[idc2])\n",
    "dcdt = (dc[1:]-dc[:-1])/(zz[1:]-zz[:-1])\n",
    "idc1 = np.int32(np.floor((z1-zmin)/zstep))\n",
    "idc2 = np.int32(np.floor((z2-zmin)/zstep))\n",
    "\n",
    "Pm1m2 = P_M1_M2(dc[idc1],dc[idc2],S1,S2)\n",
    "plt.scatter((M1/M2)[1:],(Pm1m2*M2/M1)[1:]*(S1[:-1]-S1[1:])/(M1[1:]-M1[:-1])*M2,s=1)\n",
    "plt.yscale('log')\n",
    "plt.ylim(1e-2,10)\n",
    "plt.ylabel(r'$M_0*\\Phi(M_1\\vert M_0)$')\n",
    "plt.xlabel(r'$M_1(z_1)/M_0(z_2)$')\n",
    "plt.title(r'$z_1>z_2$')"
   ]
  },
  {
   "cell_type": "code",
   "execution_count": 12,
   "metadata": {},
   "outputs": [
    {
     "data": {
      "image/png": "[encoded data removed]",
      "text/plain": [
       "<matplotlib.figure.Figure at 0x106f40dd8>"
      ]
     },
     "metadata": {},
     "output_type": "display_data"
    }
   ],
   "source": [
    "#The projenitor halo mass function for a given M2(z2)\n",
    "plt.figure(figsize=(15,3))\n",
    "plt.subplot(131)\n",
    "plt.scatter(M1,S1,s=1)\n",
    "plt.ylabel('S1')\n",
    "#plt.ylabel(r'$\\sigma_M$')\n",
    "plt.xlabel('M1')\n",
    "plt.subplot(132)\n",
    "plt.scatter(median_m(M1),-(S1[1:]-S1[:-1])/(M1[1:]-M1[:-1]),s=1)\n",
    "#plt.plot(M1[1:]*1e10,-2*(np.sqrt(S1[1:])-np.sqrt(S1[:-1]))/(M1[1:]-M1[:-1]),ls='--')\n",
    "#plt.yscale('log')\n",
    "plt.xlabel('M1')\n",
    "plt.ylabel('-dS1/dM1')\n",
    "plt.subplot(133)\n",
    "plt.plot(M1[1:]/M2,-M2/M1[1:]*(S1[1:]-S1[:-1])/(M1[1:]-M1[:-1])*Pm1m2[1:])\n",
    "plt.xlabel('M1/M0')\n",
    "plt.ylabel(r'$\\Phi(M_1\\vert M_0)$')\n",
    "plt.yscale('log')"
   ]
  },
  {
   "cell_type": "code",
   "execution_count": 13,
   "metadata": {},
   "outputs": [
    {
     "name": "stdout",
     "output_type": "stream",
     "text": [
      "200\n"
     ]
    }
   ],
   "source": [
    "#for a M0, the projenitor halo merger rate, jz, M1<dM:\n",
    "index = np.where(M1<=M2/2.)\n",
    "M3  = M1[index].copy()\n",
    "S3  = S1[index].copy()\n",
    "Pm1m3 = Pm1m2[index].copy()\n",
    "dM  = M2-M3\n",
    "idcdt = np.int32(np.floor((z1-zmin)/zstep))\n",
    "xi,jzr = jz_rate(M2,M3,S2,S3,dcdt[idcdt])\n",
    "xioff,off = OF_fit_rate(M2,z1,zmin,zstep,dcdt)"
   ]
  },
  {
   "cell_type": "code",
   "execution_count": 20,
   "metadata": {},
   "outputs": [
    {
     "name": "stdout",
     "output_type": "stream",
     "text": [
      "[0.001      0.00125893 0.00158489 0.00199526 0.00251189 0.00316228\n",
      " 0.00398107 0.00501187 0.00630957 0.00794328 0.01       0.01258925\n",
      " 0.01584893 0.01995262 0.02511886 0.03162278 0.03981072 0.05011872\n",
      " 0.06309573 0.07943282 0.1        0.12589254 0.15848932 0.19952623\n",
      " 0.25118864 0.31622777 0.39810717 0.50118723 0.63095734 0.79432823]\n",
      "[4.00398052e+04 2.55898275e+04 1.63791779e+04 1.05009915e+04\n",
      " 6.74454149e+03 4.34046132e+03 2.79940506e+03 1.80982028e+03\n",
      " 1.17313420e+03 7.62632508e+02 4.97350172e+02 3.25480359e+02\n",
      " 2.13822066e+02 1.41061963e+02 9.34926937e+01 6.22808172e+01\n",
      " 4.17213107e+01 2.81208387e+01 1.90822079e+01 1.30451283e+01\n",
      " 8.99094592e+00 6.25243281e+00 4.39099672e+00 3.11723355e+00\n",
      " 2.23939695e+00 1.62988685e+00 1.20339406e+00 9.02603349e-01\n",
      " 6.88810929e-01 5.35746272e-01]\n",
      "10000000000000.0 0.02 0 0.0001\n"
     ]
    }
   ],
   "source": [
    "print(xioff)\n",
    "print(off)\n",
    "print(M2,z1,zmin,zstep)\n",
    "#print(dcdt)"
   ]
  },
  {
   "cell_type": "code",
   "execution_count": 14,
   "metadata": {},
   "outputs": [
    {
     "name": "stdout",
     "output_type": "stream",
     "text": [
      "0.02 0 0.0001 (1000,)\n"
     ]
    }
   ],
   "source": [
    "np.int32(np.floor((z1-zmin)/zstep))\n",
    "print(z1,zmin,zstep,zz.shape)"
   ]
  },
  {
   "cell_type": "code",
   "execution_count": 15,
   "metadata": {},
   "outputs": [
    {
     "data": {
      "text/plain": [
       "(0.1, 1000.0)"
      ]
     },
     "execution_count": 15,
     "metadata": {},
     "output_type": "execute_result"
    },
    {
     "data": {
      "image/png": "[encoded data removed]",
      "text/plain": [
       "<matplotlib.figure.Figure at 0x107370198>"
      ]
     },
     "metadata": {},
     "output_type": "display_data"
    }
   ],
   "source": [
    "plt.loglog(xi,-jzr)\n",
    "plt.loglog(xioff,off)\n",
    "plt.ylim(1e-1,1e3)"
   ]
  },
  {
   "cell_type": "code",
   "execution_count": 141,
   "metadata": {},
   "outputs": [
    {
     "data": {
      "text/plain": [
       "<matplotlib.text.Text at 0x10f1f2390>"
      ]
     },
     "execution_count": 141,
     "metadata": {},
     "output_type": "execute_result"
    },
    {
     "data": {
      "image/png": "[encoded data removed]",
      "text/plain": [
       "<matplotlib.figure.Figure at 0x10df69a58>"
      ]
     },
     "metadata": {},
     "output_type": "display_data"
    }
   ],
   "source": [
    "#for a M0, the projenitor halo merger rate, eps:\n",
    "index = np.where(M1>=M2/2.)\n",
    "M3  = M1[index].copy()\n",
    "S3  = S1[index].copy()\n",
    "Pm1m3 = Pm1m2[index].copy()\n",
    "dM  = M2-M3\n",
    "plt.plot(median_m(dM/M3),-M2/M3[1:]*(S3[1:]-S3[:-1])/(M3[1:]-M3[:-1])*Pm1m3[1:])#/(np.log10(M2)-np.log10(M3[1:])))\n",
    "plt.xscale('log')\n",
    "plt.yscale('log')\n",
    "plt.xlabel(r'$\\xi=(M_0-M_1)/M_1$')\n",
    "plt.ylabel(r'$dN(M_0,\\xi,z_0)/d\\xi/dz=\\phi(M_1\\vert M_0)$')"
   ]
  },
  {
   "cell_type": "code",
   "execution_count": null,
   "metadata": {},
   "outputs": [],
   "source": [
    "jz_rate(M2,xi,M1,dS):"
   ]
  },
  {
   "cell_type": "code",
   "execution_count": 133,
   "metadata": {},
   "outputs": [
    {
     "ename": "NameError",
     "evalue": "name 'OF_rate' is not defined",
     "output_type": "error",
     "traceback": [
      "\u001b[0;31m---------------------------------------------------------------------------\u001b[0m",
      "\u001b[0;31mNameError\u001b[0m                                 Traceback (most recent call last)",
      "\u001b[0;32m<ipython-input-133-b371f147ffe9>\u001b[0m in \u001b[0;36m<module>\u001b[0;34m()\u001b[0m\n\u001b[0;32m----> 1\u001b[0;31m \u001b[0mOF_rate\u001b[0m\u001b[0;34m(\u001b[0m\u001b[0mS1\u001b[0m\u001b[0;34m,\u001b[0m\u001b[0mS2\u001b[0m\u001b[0;34m,\u001b[0m\u001b[0mdcdz\u001b[0m\u001b[0;34m)\u001b[0m\u001b[0;34m\u001b[0m\u001b[0m\n\u001b[0m",
      "\u001b[0;31mNameError\u001b[0m: name 'OF_rate' is not defined"
     ]
    }
   ],
   "source": [
    "idcdt = np.int32(np.floor(()))\n",
    "OF_rate(S1,S2,dcdz)"
   ]
  },
  {
   "cell_type": "code",
   "execution_count": 112,
   "metadata": {},
   "outputs": [
    {
     "data": {
      "text/plain": [
       "array([501.18723363, 503.50060879, 505.824662  , 508.15944256,\n",
       "       510.50499998, 512.86138399, 515.22864458, 517.60683195,\n",
       "       519.99599653, 522.396189  , 524.80746025, 527.22986142,\n",
       "       529.66344389, 532.10825927, 534.5643594 , 537.03179637,\n",
       "       539.51062252, 542.0008904 , 544.50265284, 547.01596289,\n",
       "       549.54087386, 552.07743928, 554.62571296, 557.18574893,\n",
       "       559.7576015 , 562.34132519, 564.93697481, 567.54460541,\n",
       "       570.16427228, 572.79603099, 575.43993734, 578.09604741,\n",
       "       580.76441752, 583.44510427, 586.13816451, 588.84365536,\n",
       "       591.56163418, 594.29215862, 597.03528658, 599.79107626,\n",
       "       602.55958608, 605.34087475, 608.13500128, 610.94202491,\n",
       "       613.76200517, 616.59500186, 619.44107508, 622.30028517,\n",
       "       625.17269278, 628.05835881, 630.95734448, 633.86971126,\n",
       "       636.79552091, 639.73483548, 642.68771732, 645.65422904,\n",
       "       648.63443355, 651.62839406, 654.63617407, 657.65783736,\n",
       "       660.69344801, 663.7430704 , 666.80676921, 669.88460942,\n",
       "       672.97665629, 676.08297539, 679.20363262, 682.33869414,\n",
       "       685.48822645, 688.65229635, 691.83097092, 695.02431759,\n",
       "       698.23240408, 701.45529842, 704.69306897, 707.94578439,\n",
       "       711.21351365, 714.49632608, 717.79429127, 721.10747918,\n",
       "       724.43596008, 727.77980454, 731.13908348, 734.51386816,\n",
       "       737.90423013, 741.3102413 , 744.73197391, 748.16950051,\n",
       "       751.62289402, 755.09222767, 758.57757503, 762.07901003,\n",
       "       765.59660691, 769.13044029, 772.6805851 , 776.24711663,\n",
       "       779.83011052, 783.42964277, 787.0457897 , 790.678628  ,\n",
       "       794.32823473, 797.99468727, 801.67806339, 805.3784412 ,\n",
       "       809.09589918, 812.83051617, 816.58237136, 820.35154433,\n",
       "       824.13811501, 827.94216371, 831.7637711 , 835.60301823,\n",
       "       839.45998652, 843.33475777, 847.22741414, 851.1380382 ,\n",
       "       855.06671289, 859.01352151, 862.97854777, 866.96187576,\n",
       "       870.96358996, 874.98377523, 879.02251683, 883.07990042,\n",
       "       887.15601204, 891.25093814, 895.36476555, 899.49758153,\n",
       "       903.64947372, 907.82053018, 912.01083936, 916.22049012,\n",
       "       920.44957175, 924.69817394, 928.96638678, 933.2543008 ,\n",
       "       937.56200693, 941.88959652, 946.23716137, 950.60479366,\n",
       "       954.99258602, 959.40063152, 963.82902363, 968.27785626,\n",
       "       972.74722378, 977.23722096, 981.74794302, 986.27948563,\n",
       "       990.83194489, 995.40541735])"
      ]
     },
     "execution_count": 112,
     "metadata": {},
     "output_type": "execute_result"
    }
   ],
   "source": [
    "M3"
   ]
  },
  {
   "cell_type": "code",
   "execution_count": null,
   "metadata": {},
   "outputs": [],
   "source": []
  }
 ],
 "metadata": {
  "kernelspec": {
   "display_name": "Python 3",
   "language": "python",
   "name": "python3"
  },
  "language_info": {
   "codemirror_mode": {
    "name": "ipython",
    "version": 3
   },
   "file_extension": ".py",
   "mimetype": "text/x-python",
   "name": "python",
   "nbconvert_exporter": "python",
   "pygments_lexer": "ipython3",
   "version": "3.6.5"
  }
 },
 "nbformat": 4,
 "nbformat_minor": 2
}
