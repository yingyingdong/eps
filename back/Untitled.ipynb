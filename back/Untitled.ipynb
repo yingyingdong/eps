{
 "cells": [
  {
   "cell_type": "code",
   "execution_count": 1,
   "metadata": {},
   "outputs": [
    {
     "name": "stdout",
     "output_type": "stream",
     "text": [
      "Populating the interactive namespace from numpy and matplotlib\n"
     ]
    }
   ],
   "source": [
    "%pylab inline\n",
    "from ctypes import *\n",
    "import os\n",
    "PS=cdll.LoadLibrary('pshmf.so')\n"
   ]
  },
  {
   "cell_type": "code",
   "execution_count": 2,
   "metadata": {},
   "outputs": [
    {
     "ename": "SyntaxError",
     "evalue": "invalid syntax (<ipython-input-2-791fddb841e1>, line 1)",
     "output_type": "error",
     "traceback": [
      "\u001b[0;36m  File \u001b[0;32m\"<ipython-input-2-791fddb841e1>\"\u001b[0;36m, line \u001b[0;32m1\u001b[0m\n\u001b[0;31m    def(void)        # ... set some units\u001b[0m\n\u001b[0m       ^\u001b[0m\n\u001b[0;31mSyntaxError\u001b[0m\u001b[0;31m:\u001b[0m invalid syntax\n"
     ]
    }
   ],
   "source": [
    "def(void)        # ... set some units \n",
    "{\n",
    "    UnitTime_in_s = UnitLength_in_cm / UnitVelocity_in_cm_per_s;\n",
    "\n",
    "    G = GRAVITY / pow(UnitLength_in_cm, 3) * UnitMass_in_g * pow(UnitTime_in_s, 2);\n",
    "    Hubble = HUBBLE * UnitTime_in_s;                                               //~0.9972, unit in km/s h/kpc\n",
    "    printf(\"Hublle=%lf,UnitTime_in_s=%lf,G=%lf\\n\",Hubble,UnitTime_in_s,G);\n",
    "}"
   ]
  },
  {
   "cell_type": "code",
   "execution_count": null,
   "metadata": {},
   "outputs": [],
   "source": [
    "def Initialliz_PS(redshift):\n",
    "    DZ = PS.GF(1.0/(redshift + 1), 1.0)"
   ]
  },
  {
   "cell_type": "code",
   "execution_count": 21,
   "metadata": {},
   "outputs": [
    {
     "data": {
      "text/plain": [
       "c_int(1)"
      ]
     },
     "execution_count": 21,
     "metadata": {},
     "output_type": "execute_result"
    }
   ],
   "source": [
    "c_int(1)"
   ]
  },
  {
   "cell_type": "code",
   "execution_count": 2,
   "metadata": {},
   "outputs": [
    {
     "data": {
      "text/plain": [
       "0"
      ]
     },
     "execution_count": 2,
     "metadata": {},
     "output_type": "execute_result"
    }
   ],
   "source": [
    "PS.main_power(c_double(0.45))"
   ]
  },
  {
   "cell_type": "code",
   "execution_count": 3,
   "metadata": {},
   "outputs": [],
   "source": [
    "def PS(sigma):\n",
    "    return np.sqrt(2./np.pi)*dc/sigma*np.exp(-dc**2./2/sigma**2.)\n",
    "def ST(sigma):\n",
    "    A,a,p=0.3222,0.707,0.3\n",
    "    return A*np.sqrt(2*a/np.pi)*(1+(sigma**2/a/dc**2)**p)*dc/sigma*np.exp(-a*dc**2./2/sigma**2.)\n",
    "\n",
    "median_m = lambda x:0.5*(x[1:]+x[:-1])\n",
    "x = np.loadtxt('data/z0.45-ww-1-sigma0.85-om0.268-test.dat')\n",
    "dc = 1.686\n",
    "lnw = 1\n",
    "myc,ls = ['indianred','orange','teal','steelblue','maroon','coral','purple'],['-.','--','-']"
   ]
  },
  {
   "cell_type": "code",
   "execution_count": 4,
   "metadata": {},
   "outputs": [
    {
     "name": "stderr",
     "output_type": "stream",
     "text": [
      "/usr/local/lib/python3.6/site-packages/ipykernel_launcher.py:9: RuntimeWarning: divide by zero encountered in log10\n",
      "  if __name__ == '__main__':\n",
      "/usr/local/lib/python3.6/site-packages/ipykernel_launcher.py:12: RuntimeWarning: divide by zero encountered in log10\n",
      "  if sys.path[0] == '':\n"
     ]
    },
    {
     "data": {
      "text/plain": [
       "<matplotlib.legend.Legend at 0x1130cec18>"
      ]
     },
     "execution_count": 4,
     "metadata": {},
     "output_type": "execute_result"
    },
    {
     "data": {
      "image/png": "[encoded data removed]",
      "text/plain": [
       "<matplotlib.figure.Figure at 0x11304e0b8>"
      ]
     },
     "metadata": {},
     "output_type": "display_data"
    }
   ],
   "source": [
    "    ww = '-1'\n",
    "    idz,ir,im,ism,irho = 0,1,2,3,4\n",
    "    x[:,ism] = x[:,ism]\n",
    "    fps = PS(x[:,ism])\n",
    "    fst = ST(x[:,ism])\n",
    "    dlnsm = np.log(x[1:,ism])-np.log(x[:-1,ism])\n",
    "    dm    = x[1:,im]-x[:-1,im]\n",
    "    #plt.plot(np.log10(median_m(x[:,im])*1e10),np.log10(-np.log(10)*median_m(fps)*dlnsm/dm*x[0,-1]*1e9),label='P-S',linewidth=lnw,ls=ls[0])\n",
    "    plt.plot(np.log10(median_m(x[:,im])*1e10),np.log10(-np.log(10)*median_m(fst)*dlnsm/dm*x[0,-1]*1e9),label='S-T',linewidth=lnw,ls=ls[2],alpha=1)\n",
    "    imass = np.int32(x.shape[0]*np.array([0.2,0.4,0.6,0.8]))\n",
    "    xsimu = np.loadtxt('../data/w_1/fofmassfunc0.45.dat')\n",
    "    plt.plot(xsimu[:,0],np.log10(xsimu[:,1]))\n",
    "    plt.xlim(11,15.5)\n",
    "    plt.ylim(-7,-1)\n",
    "    plt.xlabel(r'$lg(M\\;\\;[h^{-1}M_\\odot])$',fontsize=12)\n",
    "    plt.ylabel(r'$lg(\\,dN\\,/ \\,dlgM\\;\\;[h^3Mpc^{3-}]\\,)$',fontsize=12)\n",
    "    plt.legend()"
   ]
  },
  {
   "cell_type": "code",
   "execution_count": null,
   "metadata": {},
   "outputs": [],
   "source": []
  }
 ],
 "metadata": {
  "kernelspec": {
   "display_name": "Python 3",
   "language": "python",
   "name": "python3"
  },
  "language_info": {
   "codemirror_mode": {
    "name": "ipython",
    "version": 3
   },
   "file_extension": ".py",
   "mimetype": "text/x-python",
   "name": "python",
   "nbconvert_exporter": "python",
   "pygments_lexer": "ipython3",
   "version": "3.6.5"
  }
 },
 "nbformat": 4,
 "nbformat_minor": 2
}
